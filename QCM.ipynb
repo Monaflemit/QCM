{
 "cells": [
  {
   "cell_type": "code",
   "execution_count": null,
   "id": "13ad5370",
   "metadata": {},
   "outputs": [],
   "source": [
    "q6=\"Quatre ouvriers mettent 12 jours pour réaliser un travail. Dans les mêmes conditions, combien de temps mettraient huit ouvriers pour réaliser ce travail ?\"\n",
    "rep1=\"6\"#\n",
    "rep2=\"12\"\n",
    "\n",
    "q6=\"Un orchestre de 120 musiciens met 40 minutes pour jouer la 9ème symphonie de Beethoven. Combien de minutes faudrait-il à 60 musiciens pour jouer cette symphonie ?\"\n",
    "rep1=\"40\"#\n",
    "rep2=\"80\"\n",
    "\n",
    "q6=\"Quatre ouvriers mettent 12 jours pour réaliser un travail. Dans les mêmes conditions, combien de temps mettraient six ouvriers pour réaliser ce travail ?\"\n",
    "rep1=\"6\"\n",
    "rep2=\"9\"#\n",
    "\n",
    "ind=\"C'est une histoire de proportionnalité\""
   ]
  },
  {
   "cell_type": "code",
   "execution_count": null,
   "id": "cb8190e5",
   "metadata": {},
   "outputs": [],
   "source": [
    "#Question chiffre le plus grand\n",
    "q6=\"Quel est le chiffre le plus grand ?\"\n",
    "\n",
    "\n",
    "# Afficher l'image 0.png\n",
    "im1=\"0.png\"\n",
    "im2=\"4.png\"\n",
    "rep1=\"\"#\n",
    "rep2=\"\"\n",
    "\n",
    "#Question nombre le plus grand\n",
    "q6=\"Quelle est le nombre le plus grand ?\"\n",
    "\n",
    "\n",
    "# Afficher l'image 0.png\n",
    "im1=\"0.png\"\n",
    "im2=\"4.png\"\n",
    "rep1=\"\"\n",
    "rep2=\"\"#\n",
    "\n",
    "q6=\"X est un chiffre ?\"\n",
    "rep1=\"Oui\"#\n",
    "rep2=\"Non\"\n",
    "\n",
    "from IPython.display import display, Latex\n",
    "\n",
    "ind=display(Latex(\"\"\"Nombre $\\\\simeq$ Quantité $\\\\\\$ Chiffre $\\\\simeq$ Symbole $\\\\\\$ \n",
    "              $I=1$  $\\\\\\$ $V=5$ $\\\\\\$ $X=10$ $\\\\\\$ $L=50$ $\\\\\\$ $C=100$ $\\\\\\$ $D=500$  $\\\\\\$ $M=1000$ \"\"\"))"
   ]
  },
  {
   "cell_type": "code",
   "execution_count": null,
   "id": "04bab964",
   "metadata": {},
   "outputs": [],
   "source": [
    "q6=\"Combien y a-t-il de quarts d'heure dans 3 quarts d'heures ?\"\n",
    "rep1=\"1\"\n",
    "rep2=\"3\"#\n",
    "\n",
    "q6=\"Combien y a-t-il de quarts d'heure dans 30 minutes ?\"\n",
    "rep1=\"1\"\n",
    "rep2=\"2\"#\n",
    "\n",
    "q6=\"Sur certains jouets, on lit :  ne convient pas aux enfants de moins de 36 mois . A quel âge cela correspond en années ?\"\n",
    "rep1=\"2\"\n",
    "rep2=\"3\"#\n",
    "\n",
    "ind=\"Un quart d'heure = 15 min\n",
    "1 an = 12 mois\""
   ]
  },
  {
   "cell_type": "code",
   "execution_count": 28,
   "id": "0ac73fbc",
   "metadata": {},
   "outputs": [
    {
     "data": {
      "text/plain": [
       "'0,5h=30min'"
      ]
     },
     "execution_count": 28,
     "metadata": {},
     "output_type": "execute_result"
    }
   ],
   "source": [
    "q6=\"1,5 h = ?\"\n",
    "rep1=\"65 min\"\n",
    "rep2=\"90 min\"#\n",
    "\n",
    "q6=\"Je suis un nombre à 3 chiffres, ma partie décimale est 14. Mon arrondi à l'unité est 3. Qui suis-je ?\"\n",
    "rep1=\"3,14\"#\n",
    "rep2=\"14,3\"\n",
    "\n",
    "q6=\"Un pull coûtant 25 euros bénéficie d'une réduction de 10%. Quel est le montant en euro de cette réduction ?\"\n",
    "rep1=\"2,50\"#\n",
    "rep2=\"22,50\"\n",
    "\n",
    "ind=\"0,5h=30min\""
   ]
  },
  {
   "cell_type": "code",
   "execution_count": 30,
   "id": "f23e57d2",
   "metadata": {},
   "outputs": [
    {
     "data": {
      "text/plain": [
       "'Vingt et cent s’accordent sauf s’ils sont suivis d’un autre nombre. \\nZéro, millier, million et milliard sont des noms : ils prennent un « s » au \\npluriel.\\nLes autres mots sont invariables.'"
      ]
     },
     "execution_count": 30,
     "metadata": {},
     "output_type": "execute_result"
    }
   ],
   "source": [
    "q6=\"Ecris 80 en lettres\"\n",
    "rep1=\"quatre-vingt\"\n",
    "rep2=\"quatre-vingts\"#\n",
    "\n",
    "q6=\"Ecris 200 en lettres\"\n",
    "rep1=\"Deux-cent\"\n",
    "rep2=\"Deux-cents\"#\n",
    "\n",
    "\n",
    "q6=\"Ecris 2 000 en lettres\"\n",
    "rep1=\"deux-mille\"#\n",
    "rep2=\"deux-milles\"\n",
    "\n",
    "ind=\"Vingt et cent s'accordent sauf s'ils sont suivis d'un autre nombre. \n",
    "Zéro, millier, million et milliard sont des noms : ils prennent un  's'  au pluriel.\n",
    "Les autres mots sont invariables.\""
   ]
  },
  {
   "cell_type": "code",
   "execution_count": null,
   "id": "f4316687",
   "metadata": {},
   "outputs": [],
   "source": [
    "q6=\"Ecris 81 en lettres\"\n",
    "rep1=\"quatre-vingt-un\"#\n",
    "rep2=\"quatre-vingts-un\"\n",
    "\n",
    "q6=\"Ecris 201 en lettres\"\n",
    "rep1=\"Deux-cent-un\"#\n",
    "rep2=\"Deux-cents-un\"\n",
    "\n",
    "\n",
    "q6=\"Ecris 2 001 en lettres\"\n",
    "rep1=\"deux-mille-un\"#\n",
    "rep2=\"deux-milles-un\"\n",
    "\n",
    "ind=\"Vingt et cent s'accordent sauf s'ils sont suivis d'un autre nombre. \n",
    "Zéro, millier, million et milliard sont des noms : ils prennent un  's'  au pluriel.\n",
    "Les autres mots sont invariables.\""
   ]
  },
  {
   "cell_type": "code",
   "execution_count": 34,
   "id": "e4148de9",
   "metadata": {},
   "outputs": [
    {
     "data": {
      "text/latex": [
       "Le périmètre d'un cercle est $2\\pi r$"
      ],
      "text/plain": [
       "<IPython.core.display.Latex object>"
      ]
     },
     "execution_count": 34,
     "metadata": {},
     "output_type": "execute_result"
    }
   ],
   "source": [
    "q5=\"Une ficelle fait le tour de la Terre. Combien de mètres ajouter pour qu'elle soit à 1 mètre du sol ?\"\n",
    "rep1=\"Environ 6 m\"#\n",
    "rep2=\"Environ 6 km\"\n",
    "\n",
    "q5=\"Il a fallu 60 m de corde pour installer les trois cordes du ring de boxe. Combien mesure le côté de ce ring carré \"\n",
    "rep1=\"5 m\"#\n",
    "rep2=\"10 m\"\n",
    "\n",
    "q5=\"Que j'aime à faire apprendre ce nombre utile aux sages.\"\n",
    "rep1=\"3,1415\"\n",
    "rep2=\"3,1415926535\"#\n",
    "\n",
    "ind=Latex(\"Le périmètre d'un cercle est $2\\\\pi r$\")"
   ]
  },
  {
   "cell_type": "code",
   "execution_count": null,
   "id": "c37d92dc",
   "metadata": {},
   "outputs": [],
   "source": [
    "q5=\"Il faut 180 g de farine pour un gâteau de 6 personnes. Quelle quantité de farine dois je mettre pour faire un gâteau pour 10 personnes ?\"\n",
    "rep1=\"200 g\"\n",
    "rep2=\"300 g\"#\n",
    "\n",
    "q5=\"Dans une classe, il y a 4 filles et 6 garçons. Les filles et les garçons sont dans le ratio : \"\n",
    "rep1=\"1:2\"\n",
    "rep2=\"2:3\"#\n",
    "\n",
    "q5=\"Un bateau de 10 m correspond à une longueur de 10 cm sur son modèle réduit.  Quelle est l'échelle de réduction ?\"\n",
    "rep1=\"1/100\"#\n",
    "rep2=\"1/1000\"\n",
    "\n",
    "ind=\"C'est une histoire de proportionnalité\""
   ]
  },
  {
   "cell_type": "code",
   "execution_count": null,
   "id": "e7d3fcc5",
   "metadata": {},
   "outputs": [],
   "source": [
    "q5=\"Si deux points A et B sont symétriques par rapport à un point C, alors : \"\n",
    "rep1=\"le point A est le milieu du segment [BC]\"\n",
    "rep2=\"le point C est le milieu du segment [AB]\"#\n",
    "\n",
    "q5=\"Si un segment mesure 4 cm, son symétrique par rapport à un point mesure : \"\n",
    "rep1=\"4 cm\"#\n",
    "rep2=\"8 cm\"\n",
    "\n",
    "q5=\"Deux droites non confondues symétriques par rapport à un point sont : \"\n",
    "rep1=\"parallèles\"#\n",
    "rep2=\"sécantes\"\n",
    "\n",
    "ind=\"La symétrie est une transformation qui conserve les longueurs\""
   ]
  },
  {
   "cell_type": "code",
   "execution_count": null,
   "id": "78b3848f",
   "metadata": {},
   "outputs": [],
   "source": [
    "q4=\"Choisissez un nombre, multipliez le résultat par 2, soustraire votre nombre au départ deux fois. Vous obtenez :\"\n",
    "rep1=\"Cela dépend du nombre de départ\"\n",
    "rep2=\"Forcément 0\"#\n",
    "\n",
    "q4=\"Choisissez un nombre, ajouter 10, soustraire votre nombre au départ, soustraire 10. Vous obtenez :\"\n",
    "rep1=\"Cela dépend du nombre de départ\"\n",
    "rep2=\"Forcément 0\"#\n",
    "\n",
    "\n",
    "q4=\"Choisissez un nombre, rajoutez 10, multipliez le résultat par 2, soustraire 10, divisez par 2, soustraire votre nombre au départ, soustraire 5. Vous obtenez :\"\n",
    "rep1=\"Cela dépend du nombre de départ\"\n",
    "rep2=\"Forcément 0\"#\n",
    "\n",
    "\n",
    "ind=\"x-x=0\""
   ]
  },
  {
   "cell_type": "code",
   "execution_count": null,
   "id": "d6b1b2a9",
   "metadata": {},
   "outputs": [],
   "source": [
    "q4=\"Comparaison ou métaphore ? La femme est l'avenir de l'homme. (Aragon)\"\n",
    "rep1=\"Comparaison\"\n",
    "rep2=\"Métaphore\"#\n",
    "\n",
    "q4=\"Comparaison ou métaphore ? Quand le ciel bas et lourd pèse comme un couvercle... (Baudelaire)\"\n",
    "rep1=\"Comparaison\"#\n",
    "rep2=\"Métaphore\"\n",
    "\n",
    "q4=\"Comparaison ou métaphore ? Le violon frémit comme un coeur qu'on afflige. (Baudelaire)\"\n",
    "rep1=\"Comparaison\"#\n",
    "rep2=\"Métaphore\"\n",
    "\n",
    "ind=\"Comparaison : Fait d'envisager ensemble pour en chercher les différences /n Métaphore : Assimile deux termes pour insister sur les rapports de ressemblance qui les unissent\""
   ]
  },
  {
   "cell_type": "code",
   "execution_count": null,
   "id": "a893c1cf",
   "metadata": {},
   "outputs": [],
   "source": [
    "q4=\"L'ami de mon ami est mon : \"\n",
    "rep1=\"ami\"#\n",
    "rep2=\"ennemi\"\n",
    "\n",
    "q4=\"L'ami de mon ennemi est mon : \"\n",
    "rep1=\"ami\"\n",
    "rep2=\"ennemi\"#\n",
    "\n",
    "q4=\"L'ennemi de mon ennemi est mon : \"\n",
    "rep1=\"ami\"#\n",
    "rep2=\"ennemi\"\n",
    "\n",
    "\n",
    "ind=\"+x+=+ \\n +x-=- \\n -x+=+ \\n -x-=-\""
   ]
  },
  {
   "cell_type": "code",
   "execution_count": null,
   "id": "404f05b9",
   "metadata": {},
   "outputs": [],
   "source": [
    "q3=\"Information explicite ou implicite ? Paul n'a pas pu venir parce qu'il est malade.\"\n",
    "rep1=\"Explicite\"#\n",
    "rep2=\"Implicite\"\n",
    "\n",
    "q3=\"Information explicite ou implicite ? Quand il aura téléphoné, je pourrai dormir tranquille.\"\n",
    "rep1=\"Explicite\"\n",
    "rep2=\"Implicite\"#\n",
    "\n",
    "q3=\"Information explicite ou implicite ? Thomas roule tellement vite qu'aujoud'hui il se retrouve à pied. \"\n",
    "rep1=\"Explicite\"\n",
    "rep2=\"Implicite\"#\n",
    "\n",
    "\n",
    "ind=\"Explicite = qui est énoncé complètement /n Implicite = qui est contenu dans un propos, un discours sans y être dit .\""
   ]
  },
  {
   "cell_type": "code",
   "execution_count": null,
   "id": "4a85518b",
   "metadata": {},
   "outputs": [],
   "source": [
    "q3=\"Il est possible d'obtenir des pourcentages supérieurs à 100 %.\"\n",
    "rep1=\"Vrai\"#\n",
    "rep2=\"Faux\"\n",
    "\n",
    "q3=\"10 % de 121 correspond à 12,1.\"\n",
    "rep1=\"Vrai\"#\n",
    "rep2=\"Faux\"\n",
    "\n",
    "\n",
    "q3=\"Soit la suite 0 ; 5 ; 10 ; 15 ; 20 : la moyenne et la médiane sont identiques.\"\n",
    "rep1=\"Vrai\"#\n",
    "rep2=\"Faux\"\n",
    "\n",
    "\n",
    "ind=\"Pour obtenir 10 % d'un nombre (soit encore un dixième de ce nombre), on décale la virgule d'un rang vers la gauche dans ce nombre.\""
   ]
  },
  {
   "cell_type": "code",
   "execution_count": null,
   "id": "3f6adda8",
   "metadata": {},
   "outputs": [],
   "source": [
    "q2=\"J'augmente ta note de 100% puis je la diminue de 100%. Ta note devient :\"\n",
    "rep1=\"Forcément 0\"#\n",
    "rep2=\"Cela dépent de la note de départ\"\n",
    "\n",
    "q2=\"Il ne faut pas avoir fait polytechnique pour comprendre que cinq hausses successives de 6% donnent une hausse totale de : \"\n",
    "rep1=\"30%\"\n",
    "rep2=\"Environ 34%\"#\n",
    "\n",
    "q2=\"Un objet est à -50%, pour qu'il revienne à son prix normal, on peut augmenter le prix de : \"\n",
    "rep1=\"50%\"\n",
    "rep2=\"100%\"#\n",
    "\n",
    "ind=\"On n'additionne pas des pourcentages !\""
   ]
  },
  {
   "cell_type": "code",
   "execution_count": 8,
   "id": "74df0076",
   "metadata": {},
   "outputs": [
    {
     "data": {
      "text/latex": [
       "$1+2+3+...+n=\\frac{n(n+1)}2$"
      ],
      "text/plain": [
       "<IPython.core.display.Latex object>"
      ]
     },
     "execution_count": 8,
     "metadata": {},
     "output_type": "execute_result"
    }
   ],
   "source": [
    "q1=\"Calculez la somme : 1+2+3+...+10 \"\n",
    "rep1=\"55\"#\n",
    "rep2=\"110\"\n",
    "\n",
    "q1=\"Calculez la somme : 1+2+3+...+100 \"\n",
    "rep1=\"5 050\"#\n",
    "rep2=\"11 000\"\n",
    "\n",
    "q1=\"Calculez la somme : 1+2+3+...+1000 \"\n",
    "rep1=\"500 500\"#\n",
    "rep2=\"1 100 000\"\n",
    "\n",
    "from IPython.display import display, Latex\n",
    "ind=Latex(r\"1+2+3+...+n=\\frac{n(n+1)}2\")\n"
   ]
  },
  {
   "cell_type": "code",
   "execution_count": null,
   "id": "46e05c71",
   "metadata": {},
   "outputs": [],
   "source": [
    "qT=\"Qu'est-ce que le totalitarisme ?\"\n",
    "rep1=\"Un mouvement philosophique\"\n",
    "rep2=\"Un régime politique\" #\n",
    "\n",
    "qT=\"Quelle caractéristique s'est développée dans les régimes totalitaires ?\"\n",
    "rep1=\"La collectivisation\"\n",
    "rep2=\"Le culte du chef\" #\n",
    "\n",
    "qT=\"Expression imposée par les nazis, pour interdire les formes d'expressions liées à l'art moderne : \"\n",
    "rep1=\"Art dégénéré\" #\n",
    "rep2=\"Grand art\"\n",
    "\n",
    "\n",
    "ind=\"LA PROPAGANDE, UN ART POUR LES MASSES\""
   ]
  }
 ],
 "metadata": {
  "kernelspec": {
   "display_name": "Python 3",
   "language": "python",
   "name": "python3"
  },
  "language_info": {
   "codemirror_mode": {
    "name": "ipython",
    "version": 3
   },
   "file_extension": ".py",
   "mimetype": "text/x-python",
   "name": "python",
   "nbconvert_exporter": "python",
   "pygments_lexer": "ipython3",
   "version": "3.6.2"
  },
  "latex_envs": {
   "LaTeX_envs_menu_present": true,
   "autoclose": false,
   "autocomplete": true,
   "bibliofile": "biblio.bib",
   "cite_by": "apalike",
   "current_citInitial": 1,
   "eqLabelWithNumbers": true,
   "eqNumInitial": 1,
   "hotkeys": {
    "equation": "Ctrl-E",
    "itemize": "Ctrl-I"
   },
   "labels_anchors": false,
   "latex_user_defs": false,
   "report_style_numbering": false,
   "user_envs_cfg": false
  }
 },
 "nbformat": 4,
 "nbformat_minor": 5
}
